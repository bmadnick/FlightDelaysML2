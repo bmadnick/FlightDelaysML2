{
 "cells": [
  {
   "cell_type": "markdown",
   "id": "significant-performer",
   "metadata": {},
   "source": [
    "# Introduction"
   ]
  },
  {
   "attachments": {},
   "cell_type": "markdown",
   "id": "41c22d17",
   "metadata": {},
   "source": [
    "Problem Description (10%):\n",
    "Modeling (20%):\n",
    "Analytic Work (20%):\n",
    "Simulations (20%):\n",
    "Draw conclusions/Use Conditions (20%):\n",
    "Present the above cleanly and clearly (10%)."
   ]
  },
  {
   "cell_type": "markdown",
   "id": "italian-queen",
   "metadata": {},
   "source": [
    "The prediction of air travel is a useful undertaking for several reasons. For one, those who trade airline stocks can use travel projects as a starting point for forecasting industry performance. Travel companies themselves can utilize their ability to forecast TSA Checkins in order to appropriately price tickets. There are significant auto-correlatio and seasonality patterns within flight data that has "
   ]
  },
  {
   "cell_type": "markdown",
   "id": "569869d2",
   "metadata": {},
   "source": []
  }
 ],
 "metadata": {
  "kernelspec": {
   "display_name": "Python 3",
   "language": "python",
   "name": "python3"
  },
  "language_info": {
   "codemirror_mode": {
    "name": "ipython",
    "version": 3
   },
   "file_extension": ".py",
   "mimetype": "text/x-python",
   "name": "python",
   "nbconvert_exporter": "python",
   "pygments_lexer": "ipython3",
   "version": "3.7.6"
  }
 },
 "nbformat": 4,
 "nbformat_minor": 5
}
